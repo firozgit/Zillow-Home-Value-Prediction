{
 "cells": [
  {
   "cell_type": "code",
   "execution_count": 1,
   "id": "narrative-basement",
   "metadata": {},
   "outputs": [],
   "source": [
    "import numpy as np\n",
    "import pandas as pd"
   ]
  },
  {
   "cell_type": "markdown",
   "id": "suburban-collapse",
   "metadata": {},
   "source": [
    "In this notebook lets create some scripts to automate reading data and creating the data for the model training stage\n",
    "\n",
    "1. To read the transaction(train/test) data set and merge with the properties data set\n",
    "2. To remove the duplicate parcelid's in the train \n",
    "3. Create new features\n",
    "\n",
    "\n",
    "You will find them in "
   ]
  },
  {
   "cell_type": "code",
   "execution_count": null,
   "id": "marked-drama",
   "metadata": {},
   "outputs": [],
   "source": []
  },
  {
   "cell_type": "code",
   "execution_count": 3,
   "id": "alleged-steel",
   "metadata": {},
   "outputs": [],
   "source": [
    "def read_data(data_string):\n",
    "    \"\"\"\n",
    "    Read the train/properties data set\n",
    "    \n",
    "    Keyword Arguments:\n",
    "    type -- \"train_2016\",  \"train_2017\", \"properties_2016\", \"properties_2017\"\n",
    "    \n",
    "    \n",
    "    Returns:\n",
    "    df - dataframe from the \"data/raw\" folder\n",
    "    \n",
    "    \n",
    "    \"\"\"\n",
    "    df = pd.read_csv(\"../data/raw/{0}.csv\".format())\n",
    "    \n",
    "    return df"
   ]
  },
  {
   "cell_type": "code",
   "execution_count": null,
   "id": "tested-trademark",
   "metadata": {},
   "outputs": [],
   "source": [
    "def get_data(data_string):\n",
    "    \"\"\"\n",
    "    Read the train/test dataset and merge with properties data set and remove duplicate parcelid's in train\n",
    "    \n",
    "    Keyword Arguments:\n",
    "    data_string -- \"train\" or \"test\" \n",
    "    \n",
    "    Returns:\n",
    "    \n",
    "    \n",
    "    \"\"\"     \n",
    "    \n",
    "    year = 2016 if data_string == \"train\" else 2017\n",
    "        \n",
    "    train = read_data(\"train_{0}\".format(year)\n",
    "    properties = read_data(\"properties_{0}\".format(year))\n",
    "    merged = pd.merge(train, properties, on=\"parcelid\", how=\"left\")\n",
    "                      \n",
    "    if data_string == \"train\":\n",
    "        merged = remove_duplicate_parcels(merged)\n",
    "                      \n",
    "    y = merged_df[\"logerror\"]                          \n",
    "    merged = merged.drop(\"logerror\")     \n",
    "    \n",
    "    return merged, y"
   ]
  },
  {
   "cell_type": "code",
   "execution_count": 2,
   "id": "answering-world",
   "metadata": {},
   "outputs": [],
   "source": [
    "def remove_duplicate_parcels(df):    \n",
    "    \"\"\"\n",
    "    Remove the records with duplicate parcelid in the merged train data set.\n",
    "    \n",
    "    Keyword Arguments:\n",
    "    df -- merged data frame\n",
    "    \n",
    "    Returns:    \n",
    "    unique_df -- a dataframe with unique parcelid's\n",
    "    \n",
    "    \"\"\"\n",
    "    \n",
    "    parcel_count = df.groupby([\"parcelid\"]).size()\n",
    "    unique_parcel = df[df[\"parcelid\"].isin(parcel_count[parcel_count == 1].index)]\n",
    "    duplicated_parcel = df[df[\"parcelid\"].isin(parcel_count[parcel_count > 1].index)]\n",
    "    duplicated_parcel_unique = duplicated_parcel.sample(frac=1, random_state=42).groupby([\"parcelid\"]).head(1)\n",
    "    unique_df = pd.concat([unique_parcel, duplicated_parcel_unique], axis=0)\n",
    "    \n",
    "    return unique_df\n"
   ]
  },
  {
   "cell_type": "code",
   "execution_count": null,
   "id": "addressed-target",
   "metadata": {},
   "outputs": [],
   "source": []
  }
 ],
 "metadata": {
  "kernelspec": {
   "display_name": "Python 3",
   "language": "python",
   "name": "python3"
  },
  "language_info": {
   "codemirror_mode": {
    "name": "ipython",
    "version": 3
   },
   "file_extension": ".py",
   "mimetype": "text/x-python",
   "name": "python",
   "nbconvert_exporter": "python",
   "pygments_lexer": "ipython3",
   "version": "3.6.8"
  }
 },
 "nbformat": 4,
 "nbformat_minor": 5
}
