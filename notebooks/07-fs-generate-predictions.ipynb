{
 "cells": [
  {
   "cell_type": "markdown",
   "id": "adolescent-butter",
   "metadata": {},
   "source": [
    "## Generate Predictions"
   ]
  },
  {
   "cell_type": "markdown",
   "id": "hydraulic-thread",
   "metadata": {},
   "source": [
    "In the Kaggle Zillow First Round, we are asked to predict 6 time points for all properties of 2016: October 2016 , November 2016 , December 2016 , October 2017 , November 2017 , and December 2017 ."
   ]
  },
  {
   "cell_type": "code",
   "execution_count": 10,
   "id": "selected-kelly",
   "metadata": {},
   "outputs": [],
   "source": [
    "import sys\n",
    "import warnings\n",
    "import numpy as np\n",
    "import pandas as pd\n",
    "import joblib"
   ]
  },
  {
   "cell_type": "code",
   "execution_count": null,
   "id": "a19e2af8",
   "metadata": {},
   "outputs": [],
   "source": [
    "sys.path.append(\"../src/data\")\n",
    "sys.path.append(\"../src/features\")\n",
    "\n",
    "from make_dataset import read_data\n",
    "from data_processor import DataProcessor"
   ]
  },
  {
   "cell_type": "code",
   "execution_count": 5,
   "id": "northern-daniel",
   "metadata": {},
   "outputs": [],
   "source": [
    "# suppres warnings\n",
    "warnings.filterwarnings(\"ignore\")\n",
    "\n",
    "# Show all rows and columns in the display\n",
    "pd.set_option(\"display.max_columns\", None)\n",
    "pd.set_option(\"display.max_rows\", None)"
   ]
  },
  {
   "cell_type": "markdown",
   "id": "trying-ottawa",
   "metadata": {},
   "source": [
    "#### Load the model that we save earlier using joblib"
   ]
  },
  {
   "cell_type": "code",
   "execution_count": 13,
   "id": "assigned-cartridge",
   "metadata": {},
   "outputs": [],
   "source": [
    "final_model = joblib.load(\"../models/final_model.pkl\")"
   ]
  },
  {
   "cell_type": "markdown",
   "id": "preliminary-pipeline",
   "metadata": {},
   "source": [
    "#### Let's create a submission file with parcel id's and predictions for all these time periods."
   ]
  },
  {
   "cell_type": "code",
   "execution_count": 12,
   "id": "fifty-anger",
   "metadata": {},
   "outputs": [],
   "source": [
    "props_2016 = read_data(\"properties_2016\")"
   ]
  },
  {
   "cell_type": "code",
   "execution_count": 14,
   "id": "frequent-concern",
   "metadata": {},
   "outputs": [
    {
     "name": "stdout",
     "output_type": "stream",
     "text": [
      "<class 'pandas.core.frame.DataFrame'>\n",
      "RangeIndex: 2985217 entries, 0 to 2985216\n",
      "Data columns (total 58 columns):\n",
      " #   Column                        Dtype  \n",
      "---  ------                        -----  \n",
      " 0   parcelid                      int64  \n",
      " 1   airconditioningtypeid         float64\n",
      " 2   architecturalstyletypeid      float64\n",
      " 3   basementsqft                  float64\n",
      " 4   bathroomcnt                   float64\n",
      " 5   bedroomcnt                    float64\n",
      " 6   buildingclasstypeid           float64\n",
      " 7   buildingqualitytypeid         float64\n",
      " 8   calculatedbathnbr             float64\n",
      " 9   decktypeid                    float64\n",
      " 10  finishedfloor1squarefeet      float64\n",
      " 11  calculatedfinishedsquarefeet  float64\n",
      " 12  finishedsquarefeet12          float64\n",
      " 13  finishedsquarefeet13          float64\n",
      " 14  finishedsquarefeet15          float64\n",
      " 15  finishedsquarefeet50          float64\n",
      " 16  finishedsquarefeet6           float64\n",
      " 17  fips                          float64\n",
      " 18  fireplacecnt                  float64\n",
      " 19  fullbathcnt                   float64\n",
      " 20  garagecarcnt                  float64\n",
      " 21  garagetotalsqft               float64\n",
      " 22  hashottuborspa                object \n",
      " 23  heatingorsystemtypeid         float64\n",
      " 24  latitude                      float64\n",
      " 25  longitude                     float64\n",
      " 26  lotsizesquarefeet             float64\n",
      " 27  poolcnt                       float64\n",
      " 28  poolsizesum                   float64\n",
      " 29  pooltypeid10                  float64\n",
      " 30  pooltypeid2                   float64\n",
      " 31  pooltypeid7                   float64\n",
      " 32  propertycountylandusecode     object \n",
      " 33  propertylandusetypeid         float64\n",
      " 34  propertyzoningdesc            object \n",
      " 35  rawcensustractandblock        float64\n",
      " 36  regionidcity                  float64\n",
      " 37  regionidcounty                float64\n",
      " 38  regionidneighborhood          float64\n",
      " 39  regionidzip                   float64\n",
      " 40  roomcnt                       float64\n",
      " 41  storytypeid                   float64\n",
      " 42  threequarterbathnbr           float64\n",
      " 43  typeconstructiontypeid        float64\n",
      " 44  unitcnt                       float64\n",
      " 45  yardbuildingsqft17            float64\n",
      " 46  yardbuildingsqft26            float64\n",
      " 47  yearbuilt                     float64\n",
      " 48  numberofstories               float64\n",
      " 49  fireplaceflag                 object \n",
      " 50  structuretaxvaluedollarcnt    float64\n",
      " 51  taxvaluedollarcnt             float64\n",
      " 52  assessmentyear                float64\n",
      " 53  landtaxvaluedollarcnt         float64\n",
      " 54  taxamount                     float64\n",
      " 55  taxdelinquencyflag            object \n",
      " 56  taxdelinquencyyear            float64\n",
      " 57  censustractandblock           float64\n",
      "dtypes: float64(52), int64(1), object(5)\n",
      "memory usage: 1.3+ GB\n"
     ]
    }
   ],
   "source": [
    "props_2016.info()"
   ]
  },
  {
   "cell_type": "code",
   "execution_count": 28,
   "id": "criminal-female",
   "metadata": {},
   "outputs": [],
   "source": [
    "submission_df = props_2016[[\"parcelid\"]]"
   ]
  },
  {
   "cell_type": "code",
   "execution_count": 33,
   "id": "yellow-faculty",
   "metadata": {},
   "outputs": [],
   "source": [
    "dates = [\n",
    "    \"2016-10-01\",\n",
    "    \"2016-11-01\",\n",
    "    \"2016-12-01\",\n",
    "    \"2017-10-01\",\n",
    "    \"2017-11-01\",\n",
    "    \"2017-12-01\",\n",
    "]"
   ]
  },
  {
   "cell_type": "code",
   "execution_count": 34,
   "id": "gentle-punch",
   "metadata": {},
   "outputs": [],
   "source": [
    "for date in dates:\n",
    "\n",
    "    props_2016[\"transactiondate\"] = pd.to_datetime(date)\n",
    "    submission_df[date] = final_model.predict(props_2016)"
   ]
  },
  {
   "cell_type": "code",
   "execution_count": 37,
   "id": "active-roman",
   "metadata": {},
   "outputs": [],
   "source": [
    "submission_df.columns = [\n",
    "    \"ParcelId\",\n",
    "    \"201610\",\n",
    "    \"201611\",\n",
    "    \"201612\",\n",
    "    \"201710\",\n",
    "    \"201711\",\n",
    "    \"201712\",\n",
    "]"
   ]
  },
  {
   "cell_type": "code",
   "execution_count": 38,
   "id": "chronic-basketball",
   "metadata": {},
   "outputs": [
    {
     "name": "stdout",
     "output_type": "stream",
     "text": [
      "<class 'pandas.core.frame.DataFrame'>\n",
      "RangeIndex: 2985217 entries, 0 to 2985216\n",
      "Data columns (total 7 columns):\n",
      " #   Column    Dtype  \n",
      "---  ------    -----  \n",
      " 0   ParcelId  int64  \n",
      " 1   201610    float32\n",
      " 2   201611    float32\n",
      " 3   201612    float32\n",
      " 4   201710    float32\n",
      " 5   201711    float32\n",
      " 6   201712    float32\n",
      "dtypes: float32(6), int64(1)\n",
      "memory usage: 91.1 MB\n"
     ]
    }
   ],
   "source": [
    "submission_df.info()"
   ]
  },
  {
   "cell_type": "code",
   "execution_count": 36,
   "id": "familiar-journalism",
   "metadata": {},
   "outputs": [
    {
     "data": {
      "text/html": [
       "<div>\n",
       "<style scoped>\n",
       "    .dataframe tbody tr th:only-of-type {\n",
       "        vertical-align: middle;\n",
       "    }\n",
       "\n",
       "    .dataframe tbody tr th {\n",
       "        vertical-align: top;\n",
       "    }\n",
       "\n",
       "    .dataframe thead th {\n",
       "        text-align: right;\n",
       "    }\n",
       "</style>\n",
       "<table border=\"1\" class=\"dataframe\">\n",
       "  <thead>\n",
       "    <tr style=\"text-align: right;\">\n",
       "      <th></th>\n",
       "      <th>parcelid</th>\n",
       "      <th>2016-10-01</th>\n",
       "      <th>2016-11-01</th>\n",
       "      <th>2016-12-01</th>\n",
       "      <th>2017-10-01</th>\n",
       "      <th>2017-11-01</th>\n",
       "      <th>2017-12-01</th>\n",
       "    </tr>\n",
       "  </thead>\n",
       "  <tbody>\n",
       "    <tr>\n",
       "      <th>0</th>\n",
       "      <td>10754147</td>\n",
       "      <td>0.355789</td>\n",
       "      <td>0.355789</td>\n",
       "      <td>0.355789</td>\n",
       "      <td>0.355789</td>\n",
       "      <td>0.355789</td>\n",
       "      <td>0.355789</td>\n",
       "    </tr>\n",
       "    <tr>\n",
       "      <th>1</th>\n",
       "      <td>10759547</td>\n",
       "      <td>0.806419</td>\n",
       "      <td>0.806419</td>\n",
       "      <td>0.806419</td>\n",
       "      <td>0.806419</td>\n",
       "      <td>0.806419</td>\n",
       "      <td>0.806419</td>\n",
       "    </tr>\n",
       "    <tr>\n",
       "      <th>2</th>\n",
       "      <td>10843547</td>\n",
       "      <td>0.049502</td>\n",
       "      <td>0.049502</td>\n",
       "      <td>0.049502</td>\n",
       "      <td>0.049502</td>\n",
       "      <td>0.049502</td>\n",
       "      <td>0.049502</td>\n",
       "    </tr>\n",
       "    <tr>\n",
       "      <th>3</th>\n",
       "      <td>10859147</td>\n",
       "      <td>0.029556</td>\n",
       "      <td>0.029556</td>\n",
       "      <td>0.029556</td>\n",
       "      <td>0.029556</td>\n",
       "      <td>0.029556</td>\n",
       "      <td>0.029556</td>\n",
       "    </tr>\n",
       "    <tr>\n",
       "      <th>4</th>\n",
       "      <td>10879947</td>\n",
       "      <td>0.008157</td>\n",
       "      <td>0.008157</td>\n",
       "      <td>0.008157</td>\n",
       "      <td>0.008157</td>\n",
       "      <td>0.008157</td>\n",
       "      <td>0.008157</td>\n",
       "    </tr>\n",
       "  </tbody>\n",
       "</table>\n",
       "</div>"
      ],
      "text/plain": [
       "   parcelid  2016-10-01  2016-11-01  2016-12-01  2017-10-01  2017-11-01  \\\n",
       "0  10754147    0.355789    0.355789    0.355789    0.355789    0.355789   \n",
       "1  10759547    0.806419    0.806419    0.806419    0.806419    0.806419   \n",
       "2  10843547    0.049502    0.049502    0.049502    0.049502    0.049502   \n",
       "3  10859147    0.029556    0.029556    0.029556    0.029556    0.029556   \n",
       "4  10879947    0.008157    0.008157    0.008157    0.008157    0.008157   \n",
       "\n",
       "   2017-12-01  \n",
       "0    0.355789  \n",
       "1    0.806419  \n",
       "2    0.049502  \n",
       "3    0.029556  \n",
       "4    0.008157  "
      ]
     },
     "execution_count": 36,
     "metadata": {},
     "output_type": "execute_result"
    }
   ],
   "source": [
    "submission_df.head()"
   ]
  },
  {
   "cell_type": "code",
   "execution_count": 39,
   "id": "informed-january",
   "metadata": {},
   "outputs": [],
   "source": [
    "submission_df.to_csv(\"../data/processed/submission_file.csv\", index=False)"
   ]
  },
  {
   "cell_type": "markdown",
   "id": "palestinian-phone",
   "metadata": {},
   "source": [
    "**After uploading into the Kaggle Zillow submissions, below are the results**\n",
    "\n",
    "**public leaderboard - 0.06511 - rank 2741**\\\n",
    "**private leaderboard - 0.07609 - rank 2701**"
   ]
  }
 ],
 "metadata": {
  "kernelspec": {
   "display_name": "Python 3",
   "language": "python",
   "name": "python3"
  },
  "language_info": {
   "codemirror_mode": {
    "name": "ipython",
    "version": 3
   },
   "file_extension": ".py",
   "mimetype": "text/x-python",
   "name": "python",
   "nbconvert_exporter": "python",
   "pygments_lexer": "ipython3",
   "version": "3.6.8"
  }
 },
 "nbformat": 4,
 "nbformat_minor": 5
}
